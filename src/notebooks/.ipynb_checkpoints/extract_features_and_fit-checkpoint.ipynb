{
 "cells": [
  {
   "cell_type": "code",
   "execution_count": 6,
   "metadata": {},
   "outputs": [],
   "source": [
    "import pandas as pd\n",
    "train = pd.read_csv('/code/data/train.csv')\n",
    "val = pd.read_csv('/code/data/val.csv')"
   ]
  },
  {
   "cell_type": "code",
   "execution_count": 14,
   "metadata": {
    "scrolled": true
   },
   "outputs": [
    {
     "data": {
      "text/plain": [
       "'0        1\\n1        0\\n2        0\\n3        1\\n4        1\\n5        1\\n6        1\\n7        1\\n8        0\\n9        0\\n10       1\\n11       0\\n12       0\\n13       0\\n14       0\\n15       1\\n16       1\\n17       0\\n18       1\\n19       0\\n20       0\\n21       1\\n22       1\\n23       0\\n24       0\\n25       1\\n26       1\\n27       0\\n28       0\\n29       1\\n        ..\\n17141    0\\n17142    1\\n17143    0\\n17144    1\\n17145    1\\n17146    1\\n17147    1\\n17148    0\\n17149    0\\n17150    1\\n17151    0\\n17152    1\\n17153    1\\n17154    1\\n17155    1\\n17156    0\\n17157    0\\n17158    1\\n17159    0\\n17160    1\\n17161    0\\n17162    0\\n17163    1\\n17164    1\\n17165    1\\n17166    0\\n17167    0\\n17168    0\\n17169    1\\n17170    1\\nName: is_sarcastic, Length: 17171, dtype: int64'"
      ]
     },
     "execution_count": 14,
     "metadata": {},
     "output_type": "execute_result"
    }
   ],
   "source": []
  },
  {
   "cell_type": "code",
   "execution_count": 13,
   "metadata": {},
   "outputs": [
    {
     "ename": "TypeError",
     "evalue": "transform() got an unexpected keyword argument 'lowercase'",
     "output_type": "error",
     "traceback": [
      "\u001b[0;31m---------------------------------------------------------------------------\u001b[0m",
      "\u001b[0;31mTypeError\u001b[0m                                 Traceback (most recent call last)",
      "\u001b[0;32m<ipython-input-13-e37dc42aa744>\u001b[0m in \u001b[0;36m<module>\u001b[0;34m\u001b[0m\n\u001b[1;32m      8\u001b[0m \u001b[0;34m\u001b[0m\u001b[0m\n\u001b[1;32m      9\u001b[0m \u001b[0;31m# Transform the test set\u001b[0m\u001b[0;34m\u001b[0m\u001b[0;34m\u001b[0m\u001b[0m\n\u001b[0;32m---> 10\u001b[0;31m \u001b[0mcount_test\u001b[0m \u001b[0;34m=\u001b[0m \u001b[0mcount_vectorizer\u001b[0m\u001b[0;34m.\u001b[0m\u001b[0mtransform\u001b[0m\u001b[0;34m(\u001b[0m\u001b[0mtrain\u001b[0m\u001b[0;34m[\u001b[0m\u001b[0;34m'is_sarcastic'\u001b[0m\u001b[0;34m]\u001b[0m\u001b[0;34m,\u001b[0m \u001b[0mlowercase\u001b[0m\u001b[0;34m=\u001b[0m\u001b[0;32mFalse\u001b[0m\u001b[0;34m)\u001b[0m\u001b[0;34m\u001b[0m\u001b[0m\n\u001b[0m",
      "\u001b[0;31mTypeError\u001b[0m: transform() got an unexpected keyword argument 'lowercase'"
     ]
    }
   ],
   "source": [
    "from sklearn.feature_extraction.text import CountVectorizer, TfidfVectorizer\n",
    "\n",
    "# Initialize the `count_vectorizer` \n",
    "count_vectorizer = CountVectorizer(stop_words='english', lowercase=False)\n",
    "\n",
    "# Fit and transform the training data \n",
    "count_train = count_vectorizer.fit_transform(train['headline']) \n",
    "\n",
    "# Transform the test set \n",
    "count_test = count_vectorizer.transform(train['is_sarcastic'])"
   ]
  }
 ],
 "metadata": {
  "kernelspec": {
   "display_name": "Python 3",
   "language": "python",
   "name": "python3"
  },
  "language_info": {
   "codemirror_mode": {
    "name": "ipython",
    "version": 3
   },
   "file_extension": ".py",
   "mimetype": "text/x-python",
   "name": "python",
   "nbconvert_exporter": "python",
   "pygments_lexer": "ipython3",
   "version": "3.5.2"
  }
 },
 "nbformat": 4,
 "nbformat_minor": 2
}
