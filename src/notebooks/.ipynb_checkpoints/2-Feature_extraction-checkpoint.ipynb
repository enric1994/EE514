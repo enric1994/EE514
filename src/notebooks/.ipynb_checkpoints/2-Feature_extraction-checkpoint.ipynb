{
 "cells": [
  {
   "cell_type": "code",
   "execution_count": 1,
   "metadata": {},
   "outputs": [],
   "source": [
    "import csv\n",
    "import numpy as np\n",
    "import pandas as pd\n",
    "import os\n",
    "from textblob import TextBlob"
   ]
  },
  {
   "cell_type": "code",
   "execution_count": 2,
   "metadata": {},
   "outputs": [],
   "source": [
    "X_train = pd.read_csv(\"/code/data/train.csv\")['headline']\n",
    "y_train = pd.read_csv(\"/code/data/train.csv\")['is_sarcastic']\n",
    "\n",
    "X_val = pd.read_csv(\"/code/data/val.csv\")['headline']\n",
    "y_val = pd.read_csv(\"/code/data/val.csv\")['is_sarcastic']\n",
    "\n",
    "X_test = pd.read_csv(\"/code/data/test.csv\")['headline']\n",
    "y_test = pd.read_csv(\"/code/data/test.csv\")['is_sarcastic']"
   ]
  },
  {
   "cell_type": "markdown",
   "metadata": {},
   "source": [
    "## TFIDF"
   ]
  },
  {
   "cell_type": "code",
   "execution_count": 20,
   "metadata": {},
   "outputs": [],
   "source": [
    "from sklearn.feature_extraction import text\n",
    "from sklearn.feature_extraction.text import TfidfVectorizer\n",
    "\n",
    "vectorizer = TfidfVectorizer()\n",
    "\n",
    "# Initialize the `tfidf_vectorizer` \n",
    "tfidf_vectorizer = TfidfVectorizer()\n",
    "\n",
    "# Transform the training data \n",
    "tfidf_train = tfidf_vectorizer.fit_transform(X_train) \n",
    "\n",
    "# Transform the val set \n",
    "tfidf_val = tfidf_vectorizer.transform(X_val)\n",
    "\n",
    "# Transform the test set \n",
    "tfidf_test = tfidf_vectorizer.transform(X_test)"
   ]
  },
  {
   "cell_type": "code",
   "execution_count": 21,
   "metadata": {},
   "outputs": [],
   "source": [
    "from scipy import sparse\n",
    "\n",
    "sparse.save_npz(\"/code/data/features/tfidf_train.npz\", tfidf_train)\n",
    "sparse.save_npz(\"/code/data/features/tfidf_val.npz\", tfidf_val)\n",
    "sparse.save_npz(\"/code/data/features/tfidf_test.npz\", tfidf_test)"
   ]
  },
  {
   "cell_type": "markdown",
   "metadata": {},
   "source": [
    "## Sentiment analysis + length"
   ]
  },
  {
   "cell_type": "code",
   "execution_count": 3,
   "metadata": {},
   "outputs": [],
   "source": [
    "polarity_scores_train = []\n",
    "subjectivity_scores_train = []\n",
    "length_scores_train = []\n",
    "for row in X_train:\n",
    "    sentiment = TextBlob(row)\n",
    "    polarity_scores_train.append(sentiment.sentiment.polarity + 1)\n",
    "    subjectivity_scores_train.append(sentiment.sentiment.subjectivity + 1)\n",
    "    length_scores_train.append(len(row))"
   ]
  },
  {
   "cell_type": "code",
   "execution_count": 4,
   "metadata": {},
   "outputs": [],
   "source": [
    "polarity_scores_val = []\n",
    "subjectivity_scores_val = []\n",
    "length_scores_val = []\n",
    "for row in X_val:\n",
    "# sentiment = TextBlob(tweets.to_string())\n",
    "    sentiment = TextBlob(row)\n",
    "    polarity_scores_val.append(sentiment.sentiment.polarity + 1)\n",
    "    subjectivity_scores_val.append(sentiment.sentiment.subjectivity + 1)\n",
    "    length_scores_val.append(len(row))"
   ]
  },
  {
   "cell_type": "code",
   "execution_count": 5,
   "metadata": {},
   "outputs": [],
   "source": [
    "polarity_scores_test = []\n",
    "subjectivity_scores_test = []\n",
    "length_scores_test = []\n",
    "for row in X_test:\n",
    "# sentiment = TextBlob(tweets.to_string())\n",
    "    sentiment = TextBlob(row)\n",
    "    polarity_scores_test.append(sentiment.sentiment.polarity + 1)\n",
    "    subjectivity_scores_test.append(sentiment.sentiment.subjectivity + 1)\n",
    "    length_scores_test.append(len(row))"
   ]
  },
  {
   "cell_type": "code",
   "execution_count": 8,
   "metadata": {},
   "outputs": [],
   "source": [
    "features_train = pd.DataFrame()\n",
    "features_train['polarity'] = polarity_scores_train\n",
    "features_train['subjectivity'] = subjectivity_scores_train\n",
    "features_train['length'] = length_scores_train"
   ]
  },
  {
   "cell_type": "code",
   "execution_count": 9,
   "metadata": {},
   "outputs": [],
   "source": [
    "features_val = pd.DataFrame()\n",
    "features_val['polarity'] = polarity_scores_val\n",
    "features_val['subjectivity'] = subjectivity_scores_val\n",
    "features_val['length'] = length_scores_val"
   ]
  },
  {
   "cell_type": "code",
   "execution_count": 10,
   "metadata": {},
   "outputs": [],
   "source": [
    "features_test = pd.DataFrame()\n",
    "features_test['polarity'] = polarity_scores_test\n",
    "features_test['subjectivity'] = subjectivity_scores_test\n",
    "features_test['length'] = length_scores_test"
   ]
  },
  {
   "cell_type": "code",
   "execution_count": 11,
   "metadata": {},
   "outputs": [],
   "source": [
    "features_train.to_csv('/code/data/features/features_train.csv', index=True)\n",
    "features_val.to_csv('/code/data/features/features_val.csv', index=True)\n",
    "features_test.to_csv('/code/data/features/features_test.csv', index=True)"
   ]
  }
 ],
 "metadata": {
  "kernelspec": {
   "display_name": "Python 3",
   "language": "python",
   "name": "python3"
  },
  "language_info": {
   "codemirror_mode": {
    "name": "ipython",
    "version": 3
   },
   "file_extension": ".py",
   "mimetype": "text/x-python",
   "name": "python",
   "nbconvert_exporter": "python",
   "pygments_lexer": "ipython3",
   "version": "3.5.2"
  }
 },
 "nbformat": 4,
 "nbformat_minor": 2
}
