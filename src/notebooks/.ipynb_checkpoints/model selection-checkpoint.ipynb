{
 "cells": [
  {
   "cell_type": "markdown",
   "metadata": {},
   "source": [
    "##### Feature extraction "
   ]
  },
  {
   "cell_type": "code",
   "execution_count": 1,
   "metadata": {},
   "outputs": [],
   "source": [
    "import pandas as pd\n",
    "X_train = pd.read_csv(\"/code/data/train.csv\")['headline']\n",
    "y_train = pd.read_csv(\"/code/data/train.csv\")['is_sarcastic']\n",
    "\n",
    "X_val = pd.read_csv(\"/code/data/val.csv\")['headline']\n",
    "y_val = pd.read_csv(\"/code/data/val.csv\")['is_sarcastic']"
   ]
  },
  {
   "cell_type": "code",
   "execution_count": 2,
   "metadata": {},
   "outputs": [],
   "source": [
    "from sklearn.feature_extraction import text\n",
    "from sklearn.feature_extraction.text import TfidfVectorizer\n",
    "\n",
    "vectorizer = TfidfVectorizer()\n",
    "\n",
    "# Initialize the `tfidf_vectorizer` \n",
    "#tfidf_vectorizer = TfidfVectorizer(stop_words='english') \n",
    "tfidf_vectorizer = TfidfVectorizer()\n",
    "\n",
    "# Fit and transform the training data \n",
    "tfidf_train = tfidf_vectorizer.fit_transform(X_train) \n",
    "\n",
    "# Transform the val set \n",
    "tfidf_val = tfidf_vectorizer.transform(X_val)\n"
   ]
  },
  {
   "cell_type": "markdown",
   "metadata": {},
   "source": [
    "## Classifiers "
   ]
  },
  {
   "cell_type": "code",
   "execution_count": 7,
   "metadata": {},
   "outputs": [],
   "source": [
    "from sklearn.linear_model import LogisticRegression\n",
    "from sklearn.naive_bayes import GaussianNB\n",
    "from sklearn.ensemble import RandomForestClassifier\n",
    "from sklearn import svm\n",
    "from sklearn.naive_bayes import MultinomialNB\n",
    "\n",
    "clf1 = LogisticRegression(multi_class='multinomial', random_state=1,  solver='newton-cg')\n",
    "clf2 = RandomForestClassifier(n_estimators=50, random_state=1)\n",
    "clf3 = svm.SVC(gamma='scale', probability=True)\n",
    "clf4 = MultinomialNB() \n"
   ]
  },
  {
   "cell_type": "code",
   "execution_count": 4,
   "metadata": {},
   "outputs": [],
   "source": [
    "import itertools\n",
    "def perm(n, seq):\n",
    "    comb=[]\n",
    "    for p in itertools.product(seq, repeat=n):\n",
    "        comb.append(p)\n",
    "    return comb\n"
   ]
  },
  {
   "cell_type": "code",
   "execution_count": 5,
   "metadata": {},
   "outputs": [
    {
     "data": {
      "text/plain": [
       "125"
      ]
     },
     "execution_count": 5,
     "metadata": {},
     "output_type": "execute_result"
    }
   ],
   "source": [
    "comb=perm(3, [0,1,2,3,4])\n",
    "len(comb)"
   ]
  },
  {
   "cell_type": "code",
   "execution_count": null,
   "metadata": {},
   "outputs": [
    {
     "name": "stdout",
     "output_type": "stream",
     "text": [
      "0 (0, 0, 0, 1)\n",
      "0.8322851153039832\n",
      "1 (0, 0, 0, 2)\n",
      "0.8322851153039832\n",
      "2 (0, 0, 0, 3)\n"
     ]
    }
   ],
   "source": [
    "from sklearn.ensemble import VotingClassifier\n",
    "from itertools import combinations_with_replacement\n",
    "from sklearn import metrics\n",
    "import numpy as np\n",
    "\n",
    "results = [[0],[0,0,0,0]]\n",
    "comb=perm(4, [0,1,2,3,4])\n",
    "# next(comb)\n",
    "for i, combination in enumerate(comb[1:]):\n",
    "    print(i,combination)\n",
    "\n",
    "    eclf = VotingClassifier(estimators=[('clf1', clf1),('clf2', clf2),('clf3', clf3), ('clf4', clf4)],\n",
    "                            n_jobs=1, voting='soft', weights=combination)\n",
    "    \n",
    "    eclf = eclf.fit(tfidf_train, y_train)\n",
    "    pred3 = eclf.predict(tfidf_val)\n",
    "    result = metrics.accuracy_score(y_val, pred3)\n",
    "    print(result)\n",
    "    results[0].append(result)\n",
    "    results[1].append(combination)\n",
    "    \n",
    "pd.DataFrame(np.asarray(results)).to_csv(\"results2.csv\")"
   ]
  },
  {
   "cell_type": "code",
   "execution_count": 36,
   "metadata": {},
   "outputs": [
    {
     "name": "stdout",
     "output_type": "stream",
     "text": [
      "0.8464011180992314\n"
     ]
    }
   ],
   "source": [
    "from sklearn import metrics\n",
    "pred3 = eclf.predict(tfidf_test)\n",
    "print(metrics.accuracy_score(y_test, pred3))"
   ]
  },
  {
   "cell_type": "code",
   "execution_count": 24,
   "metadata": {
    "scrolled": false
   },
   "outputs": [],
   "source": [
    "df=pd.read_csv(\"results2.csv\")"
   ]
  },
  {
   "cell_type": "code",
   "execution_count": 31,
   "metadata": {},
   "outputs": [
    {
     "data": {
      "text/plain": [
       "0.8625669694852085"
      ]
     },
     "execution_count": 31,
     "metadata": {},
     "output_type": "execute_result"
    }
   ],
   "source": [
    "np.asarray(results[0]).max()"
   ]
  }
 ],
 "metadata": {
  "kernelspec": {
   "display_name": "Python 3",
   "language": "python",
   "name": "python3"
  },
  "language_info": {
   "codemirror_mode": {
    "name": "ipython",
    "version": 3
   },
   "file_extension": ".py",
   "mimetype": "text/x-python",
   "name": "python",
   "nbconvert_exporter": "python",
   "pygments_lexer": "ipython3",
   "version": "3.5.2"
  }
 },
 "nbformat": 4,
 "nbformat_minor": 2
}
