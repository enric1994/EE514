{
 "cells": [
  {
   "cell_type": "markdown",
   "metadata": {},
   "source": [
    "##### Feature extraction "
   ]
  },
  {
   "cell_type": "code",
   "execution_count": 2,
   "metadata": {},
   "outputs": [],
   "source": [
    "import pandas as pd\n",
    "X_train = pd.read_csv(\"/code/data/train.csv\")['headline']\n",
    "y_train = pd.read_csv(\"/code/data/train.csv\")['is_sarcastic']\n",
    "\n",
    "X_val = pd.read_csv(\"/code/data/val.csv\")['headline']\n",
    "y_val = pd.read_csv(\"/code/data/val.csv\")['is_sarcastic']"
   ]
  },
  {
   "cell_type": "code",
   "execution_count": 3,
   "metadata": {},
   "outputs": [],
   "source": [
    "from sklearn.feature_extraction import text\n",
    "from sklearn.feature_extraction.text import TfidfVectorizer\n",
    "\n",
    "tfidf_vectorizer = TfidfVectorizer()\n",
    "\n",
    "tfidf_train = tfidf_vectorizer.fit_transform(X_train) \n",
    "tfidf_val = tfidf_vectorizer.transform(X_val)\n"
   ]
  },
  {
   "cell_type": "markdown",
   "metadata": {},
   "source": [
    "## Classifiers "
   ]
  },
  {
   "cell_type": "code",
   "execution_count": 4,
   "metadata": {},
   "outputs": [],
   "source": [
    "from sklearn.linear_model import LogisticRegression\n",
    "from sklearn.naive_bayes import GaussianNB\n",
    "from sklearn.ensemble import RandomForestClassifier\n",
    "from sklearn import svm\n",
    "from sklearn.naive_bayes import MultinomialNB\n",
    "\n",
    "clf1 = LogisticRegression(multi_class='multinomial', random_state=1,  solver='newton-cg')\n",
    "clf2 = RandomForestClassifier(n_estimators=50, random_state=1)\n",
    "clf3 = svm.SVC(gamma='scale', probability=True)\n",
    "clf4 = MultinomialNB() \n"
   ]
  },
  {
   "cell_type": "markdown",
   "metadata": {},
   "source": [
    "## Generate combinations"
   ]
  },
  {
   "cell_type": "code",
   "execution_count": 5,
   "metadata": {},
   "outputs": [],
   "source": [
    "import itertools\n",
    "def perm(n, seq):\n",
    "    comb=[]\n",
    "    for p in itertools.product(seq, repeat=n):\n",
    "        comb.append(p)\n",
    "    return comb\n"
   ]
  },
  {
   "cell_type": "markdown",
   "metadata": {},
   "source": [
    "## Grid Search"
   ]
  },
  {
   "cell_type": "code",
   "execution_count": 6,
   "metadata": {},
   "outputs": [],
   "source": [
    "from sklearn.ensemble import VotingClassifier\n",
    "from itertools import combinations_with_replacement\n",
    "from sklearn import metrics\n",
    "import numpy as np"
   ]
  },
  {
   "cell_type": "code",
   "execution_count": null,
   "metadata": {},
   "outputs": [
    {
     "name": "stdout",
     "output_type": "stream",
     "text": [
      "0 (0, 0, 0, 1)\n",
      "0.8322851153039832\n",
      "1 (0, 0, 0, 2)\n"
     ]
    }
   ],
   "source": [
    "results = [[0],[0,0,0,0]]\n",
    "comb=perm(4, [0,1,2,3,4])\n",
    "for i, combination in enumerate(comb[1:]):\n",
    "    print(i,combination)\n",
    "\n",
    "    eclf = VotingClassifier(estimators=[('clf1', clf1),('clf2', clf2),('clf3', clf3), ('clf4', clf4)],\n",
    "                            n_jobs=1, voting='soft', weights=combination)\n",
    "    \n",
    "    eclf = eclf.fit(tfidf_train, y_train)\n",
    "    pred3 = eclf.predict(tfidf_val)\n",
    "    result = metrics.accuracy_score(y_val, pred3)\n",
    "    print(result)\n",
    "    results[0].append(result)\n",
    "    results[1].append(combination)\n",
    "    \n",
    "pd.DataFrame(np.asarray(results)).to_csv(\"/code/data/grid_search_results.csv\")"
   ]
  },
  {
   "cell_type": "markdown",
   "metadata": {},
   "source": [
    "## Benchmark best model "
   ]
  },
  {
   "cell_type": "code",
   "execution_count": 7,
   "metadata": {},
   "outputs": [],
   "source": [
    "from sklearn.metrics import classification_report\n",
    "eclf = VotingClassifier(estimators=[('clf1', clf1),('clf2', clf2),('clf3', clf3), ('clf4', clf4)],\n",
    "                            n_jobs=1, voting='soft', weights=[1,1,2,4])\n",
    "eclf = eclf.fit(tfidf_train, y_train)"
   ]
  },
  {
   "cell_type": "code",
   "execution_count": 11,
   "metadata": {},
   "outputs": [
    {
     "data": {
      "text/plain": [
       "0.8625669694852085"
      ]
     },
     "execution_count": 11,
     "metadata": {},
     "output_type": "execute_result"
    }
   ],
   "source": [
    "prediction = eclf.predict(tfidf_val)\n",
    "metrics.accuracy_score(y_val, prediction)"
   ]
  },
  {
   "cell_type": "code",
   "execution_count": 9,
   "metadata": {},
   "outputs": [
    {
     "name": "stdout",
     "output_type": "stream",
     "text": [
      "              precision    recall  f1-score   support\n",
      "\n",
      "        real       0.87      0.88      0.87      2290\n",
      "        fake       0.86      0.85      0.85      2003\n",
      "\n",
      "    accuracy                           0.86      4293\n",
      "   macro avg       0.86      0.86      0.86      4293\n",
      "weighted avg       0.86      0.86      0.86      4293\n",
      "\n"
     ]
    }
   ],
   "source": [
    "print(classification_report(y_val, prediction, target_names=['real', 'fake']))"
   ]
  },
  {
   "cell_type": "markdown",
   "metadata": {},
   "source": [
    "## Save model"
   ]
  },
  {
   "cell_type": "code",
   "execution_count": 12,
   "metadata": {},
   "outputs": [],
   "source": [
    "import pickle\n",
    "\n",
    "with open('/code/models/model.1.0.0.pickle', 'wb') as file:\n",
    "    pickle.dump(eclf, file)"
   ]
  }
 ],
 "metadata": {
  "kernelspec": {
   "display_name": "Python 3",
   "language": "python",
   "name": "python3"
  },
  "language_info": {
   "codemirror_mode": {
    "name": "ipython",
    "version": 3
   },
   "file_extension": ".py",
   "mimetype": "text/x-python",
   "name": "python",
   "nbconvert_exporter": "python",
   "pygments_lexer": "ipython3",
   "version": "3.5.2"
  }
 },
 "nbformat": 4,
 "nbformat_minor": 2
}
