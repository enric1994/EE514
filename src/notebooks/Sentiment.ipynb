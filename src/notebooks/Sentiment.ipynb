{
 "cells": [
  {
   "cell_type": "code",
   "execution_count": 1,
   "metadata": {},
   "outputs": [],
   "source": [
    "\n",
    "import csv\n",
    "import numpy as np\n",
    "import pandas as pd\n",
    "import os\n",
    "from textblob import TextBlob\n"
   ]
  },
  {
   "cell_type": "code",
   "execution_count": 2,
   "metadata": {},
   "outputs": [],
   "source": [
    "X_train = pd.read_csv(\"/code/data/train.csv\")['headline']\n",
    "y_train = pd.read_csv(\"/code/data/train.csv\")['is_sarcastic']\n",
    "\n",
    "X_val = pd.read_csv(\"/code/data/val.csv\")['headline']\n",
    "y_val = pd.read_csv(\"/code/data/val.csv\")['is_sarcastic']"
   ]
  },
  {
   "cell_type": "code",
   "execution_count": 3,
   "metadata": {},
   "outputs": [],
   "source": [
    "from sklearn.feature_extraction import text\n",
    "from sklearn.feature_extraction.text import TfidfVectorizer\n",
    "\n",
    "my_stop_words = text.ENGLISH_STOP_WORDS.union([\n",
    "    \"of\", \"the\", \"in\", \"for\", \"a\", \"on\", \"with\", \"and\", \"is\",\n",
    "    \"from\", \"at\", \"about\", \"by\"\n",
    "])\n",
    "\n",
    "vectorizer = TfidfVectorizer(ngram_range=(1,1), stop_words=my_stop_words)\n",
    "\n",
    "# Initialize the `tfidf_vectorizer` \n",
    "#tfidf_vectorizer = TfidfVectorizer(stop_words='english') \n",
    "tfidf_vectorizer = TfidfVectorizer()\n",
    "\n",
    "# Fit and transform the training data \n",
    "tfidf_train = tfidf_vectorizer.fit_transform(X_train) \n",
    "\n",
    "# Transform the val set \n",
    "tfidf_val = tfidf_vectorizer.transform(X_val)"
   ]
  },
  {
   "cell_type": "markdown",
   "metadata": {},
   "source": [
    "## Sentiment analysis "
   ]
  },
  {
   "cell_type": "code",
   "execution_count": 4,
   "metadata": {},
   "outputs": [],
   "source": [
    "polarity_scores_train = []\n",
    "subjectivity_scores_train = []\n",
    "for row in X_train:\n",
    "# sentiment = TextBlob(tweets.to_string())\n",
    "    sentiment = TextBlob(row)\n",
    "    polarity_scores_train.append(sentiment.sentiment.polarity + 1)\n",
    "    subjectivity_scores_train.append(sentiment.sentiment.subjectivity + 1)"
   ]
  },
  {
   "cell_type": "code",
   "execution_count": 5,
   "metadata": {},
   "outputs": [],
   "source": [
    "polarity_scores_val = []\n",
    "subjectivity_scores_val = []\n",
    "for row in X_val:\n",
    "# sentiment = TextBlob(tweets.to_string())\n",
    "    sentiment = TextBlob(row)\n",
    "    polarity_scores_val.append(sentiment.sentiment.polarity + 1)\n",
    "    subjectivity_scores_val.append(sentiment.sentiment.subjectivity + 1)"
   ]
  },
  {
   "cell_type": "code",
   "execution_count": 6,
   "metadata": {},
   "outputs": [],
   "source": [
    "# polarity_train = pd.DataFrame()\n",
    "# for i, polarity_score_train in enumerate(polarity_scores_train):\n",
    "#     polarity_train[i] = polarity_score_train +2"
   ]
  },
  {
   "cell_type": "code",
   "execution_count": 7,
   "metadata": {},
   "outputs": [],
   "source": [
    "# polarity_val = pd.DataFrame()\n",
    "# for i, polarity_score_val in enumerate(polarity_scores_val):\n",
    "#     polarity_val[i] = polarity_score_val +2"
   ]
  },
  {
   "cell_type": "code",
   "execution_count": 8,
   "metadata": {},
   "outputs": [],
   "source": [
    "features_train = pd.DataFrame()\n",
    "features_train['polarity'] = polarity_scores_train\n",
    "features_train['subjectivity'] = subjectivity_scores_train"
   ]
  },
  {
   "cell_type": "code",
   "execution_count": 9,
   "metadata": {},
   "outputs": [],
   "source": [
    "features_val = pd.DataFrame()\n",
    "features_val['polarity'] = polarity_scores_val\n",
    "features_val['subjectivity'] = subjectivity_scores_val"
   ]
  },
  {
   "cell_type": "code",
   "execution_count": 10,
   "metadata": {},
   "outputs": [],
   "source": [
    "# from scipy.sparse import hstack\n",
    "# features_train = hstack((tfidf_train,np.array(polarity_scores_train)[:,None])).A\n",
    "# features_val = hstack((tfidf_val,np.array(polarity_scores_val)[:,None])).A"
   ]
  },
  {
   "cell_type": "code",
   "execution_count": 11,
   "metadata": {},
   "outputs": [],
   "source": [
    "# features_train+1"
   ]
  },
  {
   "cell_type": "code",
   "execution_count": 12,
   "metadata": {},
   "outputs": [],
   "source": [
    "# asd = polarity_train+1\n",
    "# asd.min()"
   ]
  },
  {
   "cell_type": "code",
   "execution_count": null,
   "metadata": {},
   "outputs": [],
   "source": [
    "from sklearn.naive_bayes import MultinomialNB\n",
    "from sklearn import metrics\n",
    "\n",
    "# clf = MultinomialNB() \n",
    "\n",
    "# from sklearn.naive_bayes import GaussianNB\n",
    "# clf = GaussianNB()\n",
    "\n",
    "from sklearn.ensemble import RandomForestClassifier\n",
    "\n",
    "clf = RandomForestClassifier(n_estimators=500, max_depth=500,\n",
    "                              random_state=0)\n",
    "# clf.fit(X, y)  \n",
    "\n",
    "clf.fit(features_train, y_train)\n",
    "pred = clf.predict(features_val)\n",
    "metrics.accuracy_score(y_val, pred)"
   ]
  }
 ],
 "metadata": {
  "kernelspec": {
   "display_name": "Python 3",
   "language": "python",
   "name": "python3"
  },
  "language_info": {
   "codemirror_mode": {
    "name": "ipython",
    "version": 3
   },
   "file_extension": ".py",
   "mimetype": "text/x-python",
   "name": "python",
   "nbconvert_exporter": "python",
   "pygments_lexer": "ipython3",
   "version": "3.5.2"
  }
 },
 "nbformat": 4,
 "nbformat_minor": 2
}
